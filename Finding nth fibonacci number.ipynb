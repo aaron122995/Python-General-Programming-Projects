{
 "cells": [
  {
   "cell_type": "code",
   "execution_count": 7,
   "metadata": {},
   "outputs": [],
   "source": [
    "def Fibonacci_Sequence(n):\n",
    "    if n == 1:\n",
    "            mylist = [0]\n",
    "            print(\"The first fibonacci number is {}\".format(mylist[0]))\n",
    "    elif n == 2:\n",
    "        return [0,1]\n",
    "        print(\"The first two fibonacci number are {}\".format(mylist))\n",
    "    else:\n",
    "        mylist=[0,1]\n",
    "        for i in range(0,n-2):\n",
    "            value = mylist[i] + mylist[i+1]\n",
    "            mylist.append(value)\n",
    "            \n",
    "            \n",
    "        print(\"The first {} numbers is {}\".format(n,mylist))\n",
    "        print(\"\\n\")\n",
    "        print(\"The fibnacci number you require is {}\".format(mylist[n-1]))"
   ]
  },
  {
   "cell_type": "code",
   "execution_count": 9,
   "metadata": {},
   "outputs": [
    {
     "name": "stdout",
     "output_type": "stream",
     "text": [
      "The first 8 numbers is [0, 1, 1, 2, 3, 5, 8, 13]\n",
      "\n",
      "\n",
      "The fibnacci number you require is 13\n"
     ]
    }
   ],
   "source": [
    "Fibonacci_Sequence(8)"
   ]
  },
  {
   "cell_type": "code",
   "execution_count": null,
   "metadata": {},
   "outputs": [],
   "source": []
  }
 ],
 "metadata": {
  "kernelspec": {
   "display_name": "Python 3",
   "language": "python",
   "name": "python3"
  },
  "language_info": {
   "codemirror_mode": {
    "name": "ipython",
    "version": 3
   },
   "file_extension": ".py",
   "mimetype": "text/x-python",
   "name": "python",
   "nbconvert_exporter": "python",
   "pygments_lexer": "ipython3",
   "version": "3.7.3"
  }
 },
 "nbformat": 4,
 "nbformat_minor": 2
}
